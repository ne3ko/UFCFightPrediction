{
 "cells": [
  {
   "cell_type": "markdown",
   "metadata": {},
   "source": [
    "# INFO-4604/5604 HW2: Linear Classification: Final Project\n",
    "## UFC Fight Prediction Code\n",
    "\n",
    "### Nikolai Alexander"
   ]
  },
  {
   "cell_type": "markdown",
   "metadata": {},
   "source": [
    "## Data Collection and Preprocessing\n",
    "\n",
    "### Data Collection & Cleaning"
   ]
  },
  {
   "cell_type": "code",
   "execution_count": 1,
   "metadata": {},
   "outputs": [],
   "source": [
    "# Used Libraries\n",
    "import pandas as pd\n",
    "import numpy as np\n",
    "import re\n",
    "import functools\n",
    "import requests\n",
    "from bs4 import BeautifulSoup\n",
    "import random\n",
    "import copy\n",
    "import matplotlib.pyplot as mpl\n",
    "from sklearn import preprocessing\n",
    "from dateutil.relativedelta import relativedelta\n",
    "from datetime import datetime\n",
    "from sklearn.linear_model import SGDClassifier\n",
    "from sklearn.metrics import accuracy_score, precision_score\n",
    "from sklearn.svm import SVC\n",
    "from sklearn.naive_bayes import GaussianNB\n",
    "from sklearn.metrics import confusion_matrix\n",
    "\n",
    "# Set seed to initialize random date (For reproducibility)\n",
    "np.random.seed(seed=3985)"
   ]
  },
  {
   "cell_type": "code",
   "execution_count": 2,
   "metadata": {},
   "outputs": [
    {
     "name": "stdout",
     "output_type": "stream",
     "text": [
      "                                 url    fid                name  \\\n",
      "0      /fighter/Conor-McGregor-29688  29688      Conor McGregor   \n",
      "1           /fighter/Jon-Jones-27944  27944           Jon Jones   \n",
      "2          /fighter/Holly-Holm-75125  75125          Holly Holm   \n",
      "3       /fighter/Dominick-Cruz-12107  12107       Dominick Cruz   \n",
      "4  /fighter/Demetrious-Johnson-45452  45452  Demetrious Johnson   \n",
      "\n",
      "                      nick  birth_date height  weight       association  \\\n",
      "0                Notorious   7/14/1988     68   145.0       SBG Ireland   \n",
      "1                    Bones   7/19/1987     76   205.0  Jackson-Wink MMA   \n",
      "2  The Preacher's Daughter  10/17/1981     68   135.0  Jackson-Wink MMA   \n",
      "3            The Dominator    9/3/1985     68   134.0      Alliance MMA   \n",
      "4             Mighty Mouse   8/13/1986     63   125.0    AMC Pankration   \n",
      "\n",
      "               class                 locality        country  \n",
      "0      Featherweight                   Dublin        Ireland  \n",
      "1  Light Heavyweight      Rochester, New York  United States  \n",
      "2       Bantamweight  Albuquerque, New Mexico  United States  \n",
      "3       Bantamweight    San Diego, California  United States  \n",
      "4          Flyweight     Kirkland, Washington  United States  \n",
      "\n",
      "fighter_data_raw shape: (1561, 11)\n"
     ]
    }
   ],
   "source": [
    "# Import Raw data\n",
    "fighter_data_raw = pd.read_csv(\"UFC_Fighters_1993-2016 (raw).csv\",header=0)\n",
    "\n",
    "print(fighter_data_raw.head())\n",
    "print()\n",
    "print(\"fighter_data_raw shape:\",fighter_data_raw.shape)"
   ]
  },
  {
   "cell_type": "code",
   "execution_count": 3,
   "metadata": {},
   "outputs": [
    {
     "name": "stdout",
     "output_type": "stream",
     "text": [
      "(1526, 12)\n"
     ]
    }
   ],
   "source": [
    "# Reduce duplicate columns and add column for annotation\n",
    "fighter_data_raw.drop_duplicates(subset='name',keep='first',inplace=True)\n",
    "fighter_data_raw.insert(len(fighter_data_raw.columns),'base_style', None)\n",
    "\n",
    "# Create new file to annotate\n",
    "print(fighter_data_raw.shape)\n",
    "fighter_data_raw.to_csv('UFC_Fighters_1993-2016 (reduced).csv', index=False)\n",
    "\n",
    "# Delete raw data from memory - Don't need it anymore\n",
    "del fighter_data_raw"
   ]
  },
  {
   "cell_type": "code",
   "execution_count": 4,
   "metadata": {},
   "outputs": [],
   "source": [
    "# Import annotated file\n",
    "fighter_data_ann = pd.read_csv(\"UFC_Fighters_1993-2016 (annotated).csv\")\n",
    "\n",
    "# Change all cases to lower\n",
    "fighter_data_ann['url'] = fighter_data_ann['url'].str.lower()\n",
    "fighter_data_ann['name'] = fighter_data_ann['name'].str.lower()\n",
    "fighter_data_ann['nick'] = fighter_data_ann['nick'].str.lower()\n",
    "fighter_data_ann['association'] = fighter_data_ann['association'].str.lower()\n",
    "fighter_data_ann['class'] = fighter_data_ann['class'].str.lower()\n",
    "fighter_data_ann['locality'] = fighter_data_ann['locality'].str.lower()\n",
    "fighter_data_ann['country'] = fighter_data_ann['country'].str.lower()\n",
    "fighter_data_ann['base_style'] = fighter_data_ann['base_style'].str.lower()\n",
    "\n",
    "# Add new columns for win, loss, and win percentage\n",
    "fighter_data_ann.insert(len(fighter_data_ann.columns),'num_wins', None)\n",
    "fighter_data_ann.insert(len(fighter_data_ann.columns),'num_losses', None)\n",
    "fighter_data_ann.insert(len(fighter_data_ann.columns),'total_fights', None)\n",
    "fighter_data_ann.insert(len(fighter_data_ann.columns),'win_rate', None)\n",
    "\n",
    "# Scrape data for win, loss and win percentage\n",
    "for i, row in fighter_data_ann.iterrows() :\n",
    "    sd_url = 'http://www.sherdog.com' + row['url']\n",
    "\n",
    "    html = requests.get(sd_url).text\n",
    "    soup = BeautifulSoup(html, 'lxml')\n",
    "\n",
    "    win = soup.find('div', {'class', 'bio_graph'})\n",
    "    loss = soup.find('div', {'class', 'bio_graph loser'})\n",
    "    \n",
    "    num_wins = int(win.find('span', {'class', 'counter'}).text)\n",
    "    num_losses = int(loss.find('span', {'class', 'counter'}).text)\n",
    "    total_fights = num_wins + num_losses\n",
    "    if total_fights != 0:\n",
    "        win_perc = num_wins / total_fights\n",
    "    else :\n",
    "        win_perc = 0\n",
    "    \n",
    "    fighter_data_ann.at[i,'num_wins'] = num_wins\n",
    "    fighter_data_ann.at[i,'num_losses'] = num_losses\n",
    "    fighter_data_ann.at[i,'total_fights'] = total_fights\n",
    "    fighter_data_ann.at[i,'win_rate'] = win_perc\n",
    "\n",
    "    # Clean countries column\n",
    "    if fighter_data_ann.at[i,'country'] == 'united states' :\n",
    "        fighter_data_ann.at[i,'country'] = 'usa'\n",
    "   \n",
    "    if fighter_data_ann.at[i,'country'] == 'northern ireland' :\n",
    "        fighter_data_ann.at[i,'country'] = 'ireland'\n",
    "\n",
    "    if fighter_data_ann.at[i,'country'] == 'holland' :\n",
    "        fighter_data_ann.at[i,'country'] = 'netherlands'\n",
    "        \n",
    "    if fighter_data_ann.at[i,'country'] == 'iran, islamic republic of' :\n",
    "        fighter_data_ann.at[i,'country'] = 'iran'\n",
    "        \n",
    "    if fighter_data_ann.at[i,'country'] == 'finnland' :\n",
    "        fighter_data_ann.at[i,'country'] = 'finland'\n",
    "\n",
    "    # If they found unaffiliated to a gym, make that a data point     \n",
    "    if fighter_data_ann.at[i,'association'] == np.nan :\n",
    "        fighter_data_ann.at[i,'association'] = 'unaffiliated'\n",
    "    \n",
    "# Import new data to csv\n",
    "fighter_data_ann.to_csv('UFC_Fighters_1993-2016 (complete).csv', index=False)\n",
    "\n",
    "# Delete dataframe from memory - Function takes too long to run, so we can call\n",
    "# the new created file when we need it.\n",
    "del fighter_data_ann"
   ]
  },
  {
   "cell_type": "code",
   "execution_count": 5,
   "metadata": {},
   "outputs": [
    {
     "name": "stdout",
     "output_type": "stream",
     "text": [
      "                         pageurl  eid  mid             event_name  \\\n",
      "0  /events/UFC-1-The-Beginning-7    7    8  UFC 1 - The Beginning   \n",
      "1  /events/UFC-1-The-Beginning-7    7    7  UFC 1 - The Beginning   \n",
      "2  /events/UFC-1-The-Beginning-7    7    6  UFC 1 - The Beginning   \n",
      "3  /events/UFC-1-The-Beginning-7    7    5  UFC 1 - The Beginning   \n",
      "4  /events/UFC-1-The-Beginning-7    7    4  UFC 1 - The Beginning   \n",
      "\n",
      "                        event_org  event_date  \\\n",
      "0  Ultimate Fighting Championship  11/12/1993   \n",
      "1  Ultimate Fighting Championship  11/12/1993   \n",
      "2  Ultimate Fighting Championship  11/12/1993   \n",
      "3  Ultimate Fighting Championship  11/12/1993   \n",
      "4  Ultimate Fighting Championship  11/12/1993   \n",
      "\n",
      "                                        event_place  \\\n",
      "0  McNichols Arena, Denver, Colorado, United States   \n",
      "1  McNichols Arena, Denver, Colorado, United States   \n",
      "2  McNichols Arena, Denver, Colorado, United States   \n",
      "3  McNichols Arena, Denver, Colorado, United States   \n",
      "4  McNichols Arena, Denver, Colorado, United States   \n",
      "\n",
      "                    f1pageurl                   f2pageurl          f1name  \\\n",
      "0    /fighter/Royce-Gracie-19  /fighter/Gerard-Gordeau-15    Royce Gracie   \n",
      "1   /fighter/Jason-DeLucia-22   /fighter/Trent-Jenkins-23   Jason DeLucia   \n",
      "2    /fighter/Royce-Gracie-19     /fighter/Ken-Shamrock-4    Royce Gracie   \n",
      "3  /fighter/Gerard-Gordeau-15    /fighter/Kevin-Rosier-17  Gerard Gordeau   \n",
      "4     /fighter/Ken-Shamrock-4   /fighter/Patrick-Smith-21    Ken Shamrock   \n",
      "\n",
      "           f2name f1result f2result  f1fid  f2fid      method  \\\n",
      "0  Gerard Gordeau      win     loss     19     15  Submission   \n",
      "1   Trent Jenkins      win     loss     22     23  Submission   \n",
      "2    Ken Shamrock      win     loss     19      4  Submission   \n",
      "3    Kevin Rosier      win     loss     15     17         TKO   \n",
      "4   Patrick Smith      win     loss      4     21  Submission   \n",
      "\n",
      "           method_d                   ref  round  time  \n",
      "0  Rear-Naked Choke           Helio Vigio      1  1:44  \n",
      "1  Rear-Naked Choke  Joao Alberto Barreto      1  0:52  \n",
      "2  Rear-Naked Choke           Helio Vigio      1  0:57  \n",
      "3   Corner Stoppage  Joao Alberto Barreto      1  0:59  \n",
      "4         Heel Hook           Helio Vigio      1  1:49  \n",
      "\n",
      "fight_data_raw shape: (3569, 20)\n"
     ]
    }
   ],
   "source": [
    "fight_data_raw = pd.read_csv(\"UFC_Fights_1993-2016 (raw).csv\",header=0)\n",
    "\n",
    "print(fight_data_raw.head())\n",
    "print()\n",
    "print(\"fight_data_raw shape:\",fight_data_raw.shape)"
   ]
  },
  {
   "cell_type": "code",
   "execution_count": 6,
   "metadata": {},
   "outputs": [
    {
     "name": "stdout",
     "output_type": "stream",
     "text": [
      "{'win': 3510, 'NC': 38, 'draw': 21}\n",
      "{'loss': 3510, 'NC': 38, 'draw': 21}\n"
     ]
    }
   ],
   "source": [
    "print(fight_data_raw['f1result'].value_counts().to_dict())\n",
    "print(fight_data_raw.f2result.value_counts().to_dict())"
   ]
  },
  {
   "cell_type": "code",
   "execution_count": 7,
   "metadata": {},
   "outputs": [
    {
     "name": "stdout",
     "output_type": "stream",
     "text": [
      "{'win': 1763, 'loss': 1747, 'nc': 38, 'draw': 21}\n",
      "{'loss': 1763, 'win': 1747, 'nc': 38, 'draw': 21}\n"
     ]
    }
   ],
   "source": [
    "# Change all cases to lower\n",
    "fight_data_raw['pageurl'] = fight_data_raw['pageurl'].str.lower()\n",
    "fight_data_raw['event_name'] = fight_data_raw['event_name'].str.lower()\n",
    "fight_data_raw['event_org'] = fight_data_raw['event_org'].str.lower()\n",
    "fight_data_raw['event_place'] = fight_data_raw['event_place'].str.lower()\n",
    "fight_data_raw['f1pageurl'] = fight_data_raw['f1pageurl'].str.lower()\n",
    "fight_data_raw['f2pageurl'] = fight_data_raw['f2pageurl'].str.lower()\n",
    "fight_data_raw['f1name'] = fight_data_raw['f1name'].str.lower()\n",
    "fight_data_raw['f2name'] = fight_data_raw['f2name'].str.lower()\n",
    "fight_data_raw['f1result'] = fight_data_raw['f1result'].str.lower()\n",
    "fight_data_raw['f2result'] = fight_data_raw['f2result'].str.lower()\n",
    "fight_data_raw['method'] = fight_data_raw['method'].str.lower()\n",
    "fight_data_raw['method_d'] = fight_data_raw['method_d'].str.lower()\n",
    "fight_data_raw['ref'] = fight_data_raw['ref'].str.lower()\n",
    "\n",
    "\n",
    "# Randomize fighter1 and fighter2 in order to spread the data a little better\n",
    "for i, row in fight_data_raw.iterrows() :\n",
    "    # random integer to determine if the fighters should be switched or not\n",
    "    switch_var = random.randint(0,1)\n",
    "    \n",
    "    if switch_var == 1 :\n",
    "        temp_fpageurl = copy.deepcopy(fight_data_raw.at[i,'f1pageurl'])\n",
    "        temp_fname = copy.deepcopy(fight_data_raw.at[i,'f1name'])\n",
    "        temp_fresult = copy.deepcopy(fight_data_raw.at[i,'f1result'])\n",
    "        temp_fid = copy.deepcopy(fight_data_raw.at[i,'f1fid'])\n",
    "        \n",
    "        fight_data_raw.at[i,'f1pageurl'] = copy.deepcopy(fight_data_raw.at[i,'f2pageurl'])\n",
    "        fight_data_raw.at[i,'f1name'] = copy.deepcopy(fight_data_raw.at[i,'f2name'])\n",
    "        fight_data_raw.at[i,'f1result'] = copy.deepcopy(fight_data_raw.at[i,'f2result'])\n",
    "        fight_data_raw.at[i,'f1fid'] = copy.deepcopy(fight_data_raw.at[i,'f2fid'])\n",
    "\n",
    "        fight_data_raw.at[i,'f2pageurl'] = copy.deepcopy(temp_fpageurl)\n",
    "        fight_data_raw.at[i,'f2name'] = copy.deepcopy(temp_fname)\n",
    "        fight_data_raw.at[i,'f2result'] = copy.deepcopy(temp_fresult)\n",
    "        fight_data_raw.at[i,'f2fid'] = copy.deepcopy(temp_fid)\n",
    "\n",
    "# Shuffle instances to get rid of time dependency\n",
    "fight_data_raw = fight_data_raw.sample(frac=1).reset_index(drop=True)\n",
    "        \n",
    "print(fight_data_raw['f1result'].value_counts().to_dict())\n",
    "print(fight_data_raw.f2result.value_counts().to_dict())\n",
    "\n",
    "fight_data_raw.to_csv('UFC_Fights_1993-2016 (complete).csv', index=False)\n",
    "del fight_data_raw"
   ]
  },
  {
   "cell_type": "markdown",
   "metadata": {},
   "source": [
    "### Feature Selection & Engineering"
   ]
  },
  {
   "cell_type": "code",
   "execution_count": 2,
   "metadata": {},
   "outputs": [],
   "source": [
    "fighter_data = pd.read_csv(\"UFC_Fighters_1993-2016 (complete).csv\",header=0)\n",
    "fight_data = pd.read_csv(\"UFC_Fights_1993-2016 (complete).csv\",header=0)"
   ]
  },
  {
   "cell_type": "code",
   "execution_count": 40,
   "metadata": {},
   "outputs": [
    {
     "data": {
      "image/png": "[encoded data removed]",
      "text/plain": [
       "<Figure size 432x288 with 1 Axes>"
      ]
     },
     "metadata": {
      "needs_background": "light"
     },
     "output_type": "display_data"
    }
   ],
   "source": [
    "fighter_data['country'].value_counts()[:10].plot(kind='bar')\n",
    "mpl.xlabel('Country')\n",
    "mpl.ylabel('# of Fighters')\n",
    "mpl.title('Number of Fighters from Each Country (Top 10)')\n",
    "\n",
    "mpl.savefig('country_hist.png')\n",
    "\n",
    "mpl.show()"
   ]
  },
  {
   "cell_type": "code",
   "execution_count": 41,
   "metadata": {},
   "outputs": [
    {
     "data": {
      "image/png": "[encoded data removed]",
      "text/plain": [
       "<Figure size 432x288 with 1 Axes>"
      ]
     },
     "metadata": {
      "needs_background": "light"
     },
     "output_type": "display_data"
    }
   ],
   "source": [
    "fighter_data['association'].value_counts()[:10].plot(kind='bar')\n",
    "mpl.xlabel('Association')\n",
    "mpl.ylabel('# of Fighters')\n",
    "mpl.title('Number of Fighters from Each Association (Top 10)')\n",
    "\n",
    "mpl.savefig('gym_hist.png')\n",
    "\n",
    "mpl.show()"
   ]
  },
  {
   "cell_type": "code",
   "execution_count": 44,
   "metadata": {},
   "outputs": [
    {
     "data": {
      "image/png": "[encoded data removed]",
      "text/plain": [
       "<Figure size 432x288 with 1 Axes>"
      ]
     },
     "metadata": {
      "needs_background": "light"
     },
     "output_type": "display_data"
    }
   ],
   "source": [
    "fighter_data['base_style'].value_counts()[:10].plot(kind='bar')\n",
    "mpl.xlabel('Base Style')\n",
    "mpl.ylabel('# of Fighters')\n",
    "mpl.title('Number of Fighters from Each Discipline (Top 10)')\n",
    "\n",
    "mpl.savefig('style_hist.png')\n",
    "\n",
    "mpl.show()"
   ]
  },
  {
   "cell_type": "code",
   "execution_count": 3,
   "metadata": {},
   "outputs": [
    {
     "name": "stdout",
     "output_type": "stream",
     "text": [
      "   country  norm_count   wins  total  win_rate  weighted_wr\n",
      "0      usa    0.596398  13520  19947  0.677796     1.274194\n",
      "1   brazil    0.125417   3235   4477  0.722582     0.847999\n",
      "2   canada    0.046698   1082   1582  0.683944     0.730642\n",
      "3  england    0.036691    829   1220  0.679508     0.716199\n",
      "4    japan    0.036691   1197   1816  0.659141     0.695832\n",
      "        country  norm_count  wins  total  win_rate  weighted_wr\n",
      "54      iceland    0.000667    17     20  0.850000     0.850667\n",
      "55  puerto rico    0.000667     0      1  0.000000     0.000667\n",
      "56     paraguay    0.000667     8     11  0.727273     0.727940\n",
      "57       angola    0.000667     7      9  0.777778     0.778445\n",
      "58         guam    0.000667    10     15  0.666667     0.667334\n"
     ]
    }
   ],
   "source": [
    "# Create Dataframe to caluclated weighted win rate based off number of fighters in each nationality + the win rate of the nation\n",
    "country_index = fighter_data['country'].value_counts(normalize=True).index.tolist()\n",
    "country_value = fighter_data['country'].value_counts(normalize=True).values.tolist()\n",
    "country_df = pd.DataFrame({'country': country_index, 'norm_count': country_value })\n",
    "\n",
    "country_df.insert(len(country_df.columns),'wins', 0)\n",
    "country_df.insert(len(country_df.columns),'total', 0)\n",
    "country_df.insert(len(country_df.columns),'win_rate', 0)\n",
    "country_df.insert(len(country_df.columns),'weighted_wr', 0)\n",
    "\n",
    "for i, row in fighter_data.iterrows() :\n",
    "    for j, row in country_df.iterrows() :\n",
    "        if fighter_data.at[i,'country'] == country_df.at[j,'country'] :\n",
    "            country_df.at[j,'wins'] += fighter_data.at[i,'num_wins']\n",
    "            country_df.at[j,'total'] += fighter_data.at[i,'total_fights']\n",
    "            break\n",
    "\n",
    "\n",
    "country_df['win_rate'] = country_df['wins']/country_df['total']\n",
    "country_df['weighted_wr'] = country_df['norm_count'] + country_df['win_rate']\n",
    "\n",
    "print(country_df.head())\n",
    "print(country_df.tail())"
   ]
  },
  {
   "cell_type": "code",
   "execution_count": 4,
   "metadata": {},
   "outputs": [
    {
     "name": "stdout",
     "output_type": "stream",
     "text": [
      "                   association  norm_count  wins  total  win_rate  weighted_wr\n",
      "0            american top team    0.041137  1026   1477  0.694651     0.735788\n",
      "1             jackson-wink mma    0.029170   756   1075  0.703256     0.732426\n",
      "2                   nova uniao    0.016455   419    545  0.768807     0.785262\n",
      "3  american kickboxing academy    0.015707   318    454  0.700441     0.716147\n",
      "4                 blackzilians    0.014211   334    469  0.712154     0.726364\n",
      "             association  norm_count  wins  total  win_rate  weighted_wr\n",
      "646  gracie barra sydney    0.000748    10     16  0.625000     0.625748\n",
      "647    primus fight team    0.000748    26     37  0.702703     0.703451\n",
      "648                 vmat    0.000748    27     35  0.771429     0.772177\n",
      "649          spirit dojo    0.000748    40     56  0.714286     0.715034\n",
      "650     bushido bulgaria    0.000748    12     14  0.857143     0.857891\n"
     ]
    }
   ],
   "source": [
    "# Create dataframe in order to calculate weighted win rate based off number of fighters from the gym + the win rate of that gym\n",
    "gym_index = fighter_data['association'].value_counts(normalize=True).index.tolist()\n",
    "gym_value = fighter_data['association'].value_counts(normalize=True).values.tolist()\n",
    "gym_df = pd.DataFrame({'association': gym_index, 'norm_count': gym_value })\n",
    "\n",
    "gym_df.insert(len(gym_df.columns),'wins', 0)\n",
    "gym_df.insert(len(gym_df.columns),'total', 0)\n",
    "gym_df.insert(len(gym_df.columns),'win_rate', 0)\n",
    "gym_df.insert(len(gym_df.columns),'weighted_wr', 0)\n",
    "\n",
    "for i, row in fighter_data.iterrows() :\n",
    "    for j, row in gym_df.iterrows() :\n",
    "        if fighter_data.at[i,'association'] == gym_df.at[j,'association'] :\n",
    "            gym_df.at[j,'wins'] += fighter_data.at[i,'num_wins']\n",
    "            gym_df.at[j,'total'] += fighter_data.at[i,'total_fights']\n",
    "            break\n",
    "\n",
    "\n",
    "gym_df['win_rate'] = gym_df['wins']/gym_df['total']\n",
    "gym_df['weighted_wr'] = gym_df['norm_count'] + gym_df['win_rate']\n",
    "\n",
    "print(gym_df.head())\n",
    "print(gym_df.tail())"
   ]
  },
  {
   "cell_type": "code",
   "execution_count": 11,
   "metadata": {},
   "outputs": [
    {
     "name": "stdout",
     "output_type": "stream",
     "text": [
      "   base_style  norm_count  wins  total  win_rate  weighted_wr\n",
      "0   wrestling    0.234560  6451   9222  0.699523     0.934083\n",
      "1         mma    0.226675  4773   7081  0.674057     0.900733\n",
      "2         bjj    0.177398  3935   5615  0.700801     0.878200\n",
      "3  kickboxing    0.061104  1327   1935  0.685788     0.746892\n",
      "4      boxing    0.053876  1131   1679  0.673615     0.727492\n"
     ]
    }
   ],
   "source": [
    "# Create dataframe in order to calculate weighted win rate based off number of fighters with base_style + the win rate of that base_style\n",
    "style_index = fighter_data['base_style'].value_counts(normalize=True).index.tolist()\n",
    "style_value = fighter_data['base_style'].value_counts(normalize=True).values.tolist()\n",
    "style_df = pd.DataFrame({'base_style': style_index, 'norm_count': style_value })\n",
    "\n",
    "style_df.insert(len(style_df.columns),'wins', 0)\n",
    "style_df.insert(len(style_df.columns),'total', 0)\n",
    "style_df.insert(len(style_df.columns),'win_rate', 0)\n",
    "style_df.insert(len(style_df.columns),'weighted_wr', 0)\n",
    "\n",
    "for i, row in fighter_data.iterrows() :\n",
    "    for j, row in style_df.iterrows() :\n",
    "        if fighter_data.at[i,'base_style'] == style_df.at[j,'base_style'] :\n",
    "            style_df.at[j,'wins'] += fighter_data.at[i,'num_wins']\n",
    "            style_df.at[j,'total'] += fighter_data.at[i,'total_fights']\n",
    "            break\n",
    "\n",
    "\n",
    "style_df['win_rate'] = style_df['wins']/style_df['total']\n",
    "style_df['weighted_wr'] = style_df['norm_count'] + style_df['win_rate']\n",
    "\n",
    "print(style_df.head())"
   ]
  },
  {
   "cell_type": "code",
   "execution_count": 12,
   "metadata": {},
   "outputs": [
    {
     "name": "stdout",
     "output_type": "stream",
     "text": [
      "                                 url    fid                name  \\\n",
      "0      /fighter/conor-mcgregor-29688  29688      conor mcgregor   \n",
      "1           /fighter/jon-jones-27944  27944           jon jones   \n",
      "2          /fighter/holly-holm-75125  75125          holly holm   \n",
      "3       /fighter/dominick-cruz-12107  12107       dominick cruz   \n",
      "4  /fighter/demetrious-johnson-45452  45452  demetrious johnson   \n",
      "\n",
      "                      nick  birth_date  height  weight       association  \\\n",
      "0                notorious   7/14/1988    68.0   145.0       sbg ireland   \n",
      "1                    bones   7/19/1987    76.0   205.0  jackson-wink mma   \n",
      "2  the preacher's daughter  10/17/1981    68.0   135.0  jackson-wink mma   \n",
      "3            the dominator    9/3/1985    68.0   134.0      alliance mma   \n",
      "4             mighty mouse   8/13/1986    63.0   125.0    amc pankration   \n",
      "\n",
      "               class                 locality  country  base_style  num_wins  \\\n",
      "0      featherweight                   dublin  ireland      boxing        21   \n",
      "1  light heavyweight      rochester, new york      usa   wrestling        22   \n",
      "2       bantamweight  albuquerque, new mexico      usa  kickboxing        12   \n",
      "3       bantamweight    san diego, california      usa   wrestling        22   \n",
      "4          flyweight     kirkland, washington      usa   wrestling        27   \n",
      "\n",
      "   num_losses  total_fights  win_rate  country_score  gym_score  style_score  \n",
      "0           4            25  0.840000       0.690545   0.721922     0.727492  \n",
      "1           1            23  0.956522       1.274194   0.732426     0.934083  \n",
      "2           4            16  0.750000       1.274194   0.732426     0.746892  \n",
      "3           2            24  0.916667       1.274194   0.705204     0.934083  \n",
      "4           3            30  0.900000       1.274194   0.810007     0.934083  \n"
     ]
    }
   ],
   "source": [
    "if 'country_score' not in fighter_data : \n",
    "    fighter_data.insert(len(fighter_data.columns),'country_score', 0)\n",
    "if 'gym_score' not in fighter_data : \n",
    "    fighter_data.insert(len(fighter_data.columns),'gym_score', 0)\n",
    "if 'style_score' not in fighter_data : \n",
    "    fighter_data.insert(len(fighter_data.columns),'style_score', 0)\n",
    "\n",
    "fighter_data.country_score = fighter_data.country_score.astype(float)\n",
    "fighter_data.gym_score = fighter_data.gym_score.astype(float)\n",
    "fighter_data.style_score = fighter_data.style_score.astype(float)\n",
    "\n",
    "for i, row in fighter_data.iterrows() : \n",
    "    for j, row in country_df.iterrows() :\n",
    "        if fighter_data.at[i,'country'] == np.nan :\n",
    "            fighter_data.at[i,'country_score'] == np.nan\n",
    "        \n",
    "        if fighter_data.at[i,'country'] == country_df.at[j,'country'] :\n",
    "            fighter_data.at[i,'country_score'] = country_df.at[j,'weighted_wr']\n",
    "            break\n",
    "    \n",
    "    for j, row in gym_df.iterrows() :       \n",
    "        if fighter_data.at[i,'association'] == gym_df.at[j,'association'] :\n",
    "            fighter_data.at[i,'gym_score'] = gym_df.at[j,'weighted_wr']\n",
    "            break\n",
    "\n",
    "    for j, row in style_df.iterrows() :\n",
    "        if fighter_data.at[i,'base_style'] == np.nan :\n",
    "            fighter_data.at[i,'style_score'] == np.nan\n",
    "        \n",
    "        if fighter_data.at[i,'base_style'] == style_df.at[j,'base_style'] :\n",
    "            fighter_data.at[i,'style_score'] = style_df.at[j,'weighted_wr']\n",
    "            break\n",
    "        \n",
    "print(fighter_data.head())"
   ]
  },
  {
   "cell_type": "code",
   "execution_count": 13,
   "metadata": {},
   "outputs": [
    {
     "name": "stdout",
     "output_type": "stream",
     "text": [
      "          fighter_1         fighter_2  age_1  age_2  height_1  height_2  \\\n",
      "0        sean sherk       evan dunham   37.0     29      66.0      70.0   \n",
      "1  costas philippou     luke rockhold   35.0     30      71.0      75.0   \n",
      "2   christos giagos     gilbert burns   24.0     28      70.0      70.0   \n",
      "3      max holloway   dennis bermudez   22.0     27      71.0      66.0   \n",
      "4       george roop  francisco rivera   32.0     32      73.0      68.0   \n",
      "\n",
      "   gym_score_1  gym_score_2  country_score_1  country_score_2  style_score_1  \\\n",
      "0     0.753740     0.724472         1.274194         1.274194       0.934083   \n",
      "1     0.663261     0.716147         1.274194         1.274194       0.727492   \n",
      "2     0.696400     0.726364         1.274194         0.847999       0.934083   \n",
      "3     0.839334     0.715782         1.274194         1.274194       0.746892   \n",
      "4     0.650392     0.644353         1.274194         1.274194       0.686299   \n",
      "\n",
      "   style_score_2  win_rate_1  win_rate_2  total_fights_1  total_fights_2  \\\n",
      "0       0.934083    0.900000    0.692308              40              26   \n",
      "1       0.934083    0.722222    0.800000              18              20   \n",
      "2       0.878200    0.695652    0.823529              23              17   \n",
      "3       0.934083    0.869565    0.640000              23              25   \n",
      "4       0.900733    0.535714    0.611111              28              18   \n",
      "\n",
      "   result  \n",
      "0       1  \n",
      "1      -1  \n",
      "2      -1  \n",
      "3      -1  \n",
      "4      -1  \n"
     ]
    }
   ],
   "source": [
    "# Build new dataframe that we will use for our predictions\n",
    "f1 = fight_data['f1name'].values.tolist()\n",
    "f2 = fight_data['f2name'].values.tolist()\n",
    "data = pd.DataFrame({'fighter_1': f1, 'fighter_2': f2 })\n",
    "\n",
    "# Insert Ages\n",
    "data.insert(len(data.columns),'age_1', 0)\n",
    "data.insert(len(data.columns),'age_2', 0)\n",
    "# Insert Heights\n",
    "data.insert(len(data.columns),'height_1', 0)\n",
    "data.insert(len(data.columns),'height_2', 0)\n",
    "data.height_1 = data.height_1.astype(float)\n",
    "data.height_2 = data.height_2.astype(float)\n",
    "# Insert Gym Scores\n",
    "data.insert(len(data.columns),'gym_score_1', 0)\n",
    "data.insert(len(data.columns),'gym_score_2', 0)\n",
    "data.gym_score_1 = data.gym_score_1.astype(float)\n",
    "data.gym_score_2 = data.gym_score_2.astype(float)\n",
    "# Insert Country Scores\n",
    "data.insert(len(data.columns),'country_score_1', 0)\n",
    "data.insert(len(data.columns),'country_score_2', 0)\n",
    "data.country_score_1 = data.country_score_1.astype(float)\n",
    "data.country_score_2 = data.country_score_2.astype(float)\n",
    "# Insert Base Style Scores\n",
    "data.insert(len(data.columns),'style_score_1', 0)\n",
    "data.insert(len(data.columns),'style_score_2', 0)\n",
    "data.style_score_1 = data.style_score_1.astype(float)\n",
    "data.style_score_2 = data.style_score_2.astype(float)\n",
    "# Insert Win Rates\n",
    "data.insert(len(data.columns),'win_rate_1', 0)\n",
    "data.insert(len(data.columns),'win_rate_2', 0)\n",
    "data.win_rate_1 = data.win_rate_1.astype(float)\n",
    "data.win_rate_2 = data.win_rate_2.astype(float)\n",
    "# Insert Total Fights\n",
    "data.insert(len(data.columns),'total_fights_1', 0)\n",
    "data.insert(len(data.columns),'total_fights_2', 0)\n",
    "# Insert results\n",
    "data.insert(len(data.columns),'result', 0)\n",
    "\n",
    "\n",
    "# print(data.shape)\n",
    "# print(data.head())\n",
    "\n",
    "i = 0\n",
    "\n",
    "for i, row in data.iterrows() :\n",
    "    for j, row in fighter_data.iterrows() :\n",
    "        if data.loc[i,'fighter_1'] == fighter_data.loc[j,'name'] :      \n",
    "            if (fight_data.loc[i,'event_date'] != np.nan and fighter_data.loc[j,'birth_date'] != np.nan) and isinstance(fight_data.loc[i,'event_date'],str) == True and isinstance(fighter_data.loc[j,'birth_date'],str) == True :\n",
    "                event_date = datetime.strptime(fight_data.loc[i,'event_date'],'%m/%d/%Y')\n",
    "                birth_date = datetime.strptime(fighter_data.loc[j,'birth_date'],'%m/%d/%Y')\n",
    "                data.loc[i,'age_1'] = event_date.year - birth_date.year\n",
    "            else :\n",
    "                data.loc[i,'age_1'] = np.nan\n",
    "\n",
    "            data.loc[i,'height_1'] = fighter_data.loc[j,'height']\n",
    "            data.loc[i,'win_rate_1'] = fighter_data.loc[j,'win_rate']\n",
    "            data.loc[i,'total_fights_1'] = fighter_data.loc[j,'total_fights']\n",
    "\n",
    "            data.loc[i,'gym_score_1'] = fighter_data.loc[j,'gym_score']\n",
    "            data.loc[i,'country_score_1'] = fighter_data.loc[j,'country_score']\n",
    "            data.loc[i,'style_score_1'] = fighter_data.loc[j,'style_score']\n",
    "\n",
    "        elif data.loc[i,'fighter_2'] == fighter_data.loc[j,'name'] :\n",
    "            if (fight_data.loc[i,'event_date'] != np.nan and fighter_data.loc[j,'birth_date'] != np.nan) and isinstance(fight_data.loc[i,'event_date'],str) == True and isinstance(fighter_data.loc[j,'birth_date'],str) == True :\n",
    "                event_date = datetime.strptime(fight_data.loc[i,'event_date'],'%m/%d/%Y')\n",
    "                birth_date = datetime.strptime(fighter_data.loc[j,'birth_date'],'%m/%d/%Y')\n",
    "                data.loc[i,'age_2'] = event_date.year - birth_date.year\n",
    "            else :\n",
    "                data.loc[i,'age_1'] = np.nan\n",
    "                \n",
    "            data.loc[i,'height_2'] = fighter_data.loc[j,'height']\n",
    "            data.loc[i,'win_rate_2'] = fighter_data.loc[j,'win_rate']\n",
    "            data.loc[i,'total_fights_2'] = fighter_data.loc[j,'total_fights']\n",
    "\n",
    "            data.loc[i,'gym_score_2'] = fighter_data.loc[j,'gym_score']\n",
    "            data.loc[i,'country_score_2'] = fighter_data.loc[j,'country_score']\n",
    "            data.loc[i,'style_score_2'] = fighter_data.loc[j,'style_score']\n",
    "\n",
    "    if fight_data.loc[i,'f1result'] == 'win' :\n",
    "        data.loc[i,'result'] = 1\n",
    "    elif fight_data.loc[i,'f1result'] == 'loss' :\n",
    "        data.loc[i,'result'] = -1\n",
    "    else :\n",
    "        data.loc[i,'result'] = 0\n",
    "\n",
    "        \n",
    "data.to_csv('Compiled_Fight_Data.csv', index=False)\n",
    "print(data.head())"
   ]
  },
  {
   "cell_type": "markdown",
   "metadata": {},
   "source": [
    "### Preprocessing"
   ]
  },
  {
   "cell_type": "code",
   "execution_count": 48,
   "metadata": {},
   "outputs": [
    {
     "name": "stdout",
     "output_type": "stream",
     "text": [
      "fighter_1            0\n",
      "fighter_2            0\n",
      "age_1              242\n",
      "age_2              174\n",
      "height_1            36\n",
      "height_2            33\n",
      "gym_score_1        167\n",
      "gym_score_2        177\n",
      "country_score_1     11\n",
      "country_score_2     12\n",
      "style_score_1        0\n",
      "style_score_2        0\n",
      "win_rate_1           0\n",
      "win_rate_2           0\n",
      "total_fights_1       0\n",
      "total_fights_2       0\n",
      "result               0\n",
      "dtype: int64\n"
     ]
    }
   ],
   "source": [
    "# Some quick cleaning\n",
    "data = pd.read_csv(\"Compiled_Fight_Data.csv\",header=0)\n",
    "\n",
    "for i, row in data.iterrows() : \n",
    "    if data.loc[i,'age_1'] == 0:\n",
    "        data.loc[i,'age_1'] = np.nan\n",
    "    if data.loc[i,'age_2'] == 0:\n",
    "        data.loc[i,'age_2'] = np.nan\n",
    "        \n",
    "    if data.loc[i,'gym_score_1'] == 0 and data.loc[i,'win_rate_1'] != 0 :\n",
    "        data.loc[i,'gym_score_1'] = np.nan\n",
    "    if data.loc[i,'gym_score_2'] == 0 and data.loc[i,'win_rate_2'] != 0 :\n",
    "        data.loc[i,'gym_score_2'] = np.nan    \n",
    "        \n",
    "    if data.loc[i,'country_score_1'] == 0 and data.loc[i,'win_rate_1'] != 0 :\n",
    "        data.loc[i,'country_score_1'] = np.nan\n",
    "    if data.loc[i,'country_score_2'] == 0 and data.loc[i,'win_rate_2'] != 0 :\n",
    "        data.loc[i,'country_score_2'] = np.nan  \n",
    "\n",
    "    if data.loc[i,'style_score_1'] == 0 and data.loc[i,'win_rate_1'] != 0 :\n",
    "        data.loc[i,'style_score_1'] = np.nan\n",
    "    if data.loc[i,'style_score_2'] == 0 and data.loc[i,'win_rate_2'] != 0 :\n",
    "        data.loc[i,'style_score_2'] = np.nan\n",
    "\n",
    "# Check number of NA values in dataset to decide what to do with them\n",
    "print(data.isnull().sum())"
   ]
  },
  {
   "cell_type": "code",
   "execution_count": 49,
   "metadata": {},
   "outputs": [
    {
     "name": "stdout",
     "output_type": "stream",
     "text": [
      "          fighter_1         fighter_2  age_1  age_2  height_1  height_2  \\\n",
      "0        sean sherk       evan dunham   37.0   29.0      66.0      70.0   \n",
      "1  costas philippou     luke rockhold   35.0   30.0      71.0      75.0   \n",
      "2   christos giagos     gilbert burns   24.0   28.0      70.0      70.0   \n",
      "3      max holloway   dennis bermudez   22.0   27.0      71.0      66.0   \n",
      "4       george roop  francisco rivera   32.0   32.0      73.0      68.0   \n",
      "\n",
      "   gym_score_1  gym_score_2  country_score_1  country_score_2  style_score_1  \\\n",
      "0     0.753740     0.724472         1.274194         1.274194       0.934083   \n",
      "1     0.663261     0.716147         1.274194         1.274194       0.727492   \n",
      "2     0.696400     0.726364         1.274194         0.847999       0.934083   \n",
      "3     0.839334     0.715782         1.274194         1.274194       0.746892   \n",
      "4     0.650392     0.644353         1.274194         1.274194       0.686299   \n",
      "\n",
      "   style_score_2  win_rate_1  win_rate_2  total_fights_1  total_fights_2  \\\n",
      "0       0.934083    0.900000    0.692308              40              26   \n",
      "1       0.934083    0.722222    0.800000              18              20   \n",
      "2       0.878200    0.695652    0.823529              23              17   \n",
      "3       0.934083    0.869565    0.640000              23              25   \n",
      "4       0.900733    0.535714    0.611111              28              18   \n",
      "\n",
      "   result  \n",
      "0       1  \n",
      "1      -1  \n",
      "2      -1  \n",
      "3      -1  \n",
      "4      -1  \n"
     ]
    }
   ],
   "source": [
    "# Best option - replace null values with mean\n",
    "data.fillna(data.mean(), inplace=True)\n",
    "\n",
    "print(data.head())"
   ]
  },
  {
   "cell_type": "code",
   "execution_count": 50,
   "metadata": {},
   "outputs": [
    {
     "name": "stdout",
     "output_type": "stream",
     "text": [
      "   age_1  age_2  height_1  height_2  gym_score_1  gym_score_2  \\\n",
      "0   37.0   29.0      66.0      70.0     0.753740     0.724472   \n",
      "1   35.0   30.0      71.0      75.0     0.663261     0.716147   \n",
      "2   24.0   28.0      70.0      70.0     0.696400     0.726364   \n",
      "3   22.0   27.0      71.0      66.0     0.839334     0.715782   \n",
      "4   32.0   32.0      73.0      68.0     0.650392     0.644353   \n",
      "\n",
      "   country_score_1  country_score_2  style_score_1  style_score_2  win_rate_1  \\\n",
      "0         1.274194         1.274194       0.934083       0.934083    0.900000   \n",
      "1         1.274194         1.274194       0.727492       0.934083    0.722222   \n",
      "2         1.274194         0.847999       0.934083       0.878200    0.695652   \n",
      "3         1.274194         1.274194       0.746892       0.934083    0.869565   \n",
      "4         1.274194         1.274194       0.686299       0.900733    0.535714   \n",
      "\n",
      "   win_rate_2  total_fights_1  total_fights_2  \n",
      "0    0.692308              40              26  \n",
      "1    0.800000              18              20  \n",
      "2    0.823529              23              17  \n",
      "3    0.640000              23              25  \n",
      "4    0.611111              28              18  \n"
     ]
    }
   ],
   "source": [
    "# Create training and testing sets\n",
    "sample_size = round(data.shape[0] * 0.8)\n",
    "\n",
    "sample_set = data.loc[:sample_size-1,:]\n",
    "test_set = data.loc[sample_size:,:]\n",
    "\n",
    "# Splitting Features and Outcome for training - Take out name columns as they are irrelevent for our prediction\n",
    "X_sample = sample_set.iloc[:,2:sample_set.shape[1] - 1]\n",
    "Y_sample = sample_set.iloc[:,sample_set.shape[1]-1]\n",
    "\n",
    "X_test = test_set.iloc[:,2:test_set.shape[1] - 1]\n",
    "Y_test = test_set.iloc[:,test_set.shape[1]-1]\n",
    "\n",
    "print(X_sample.head())"
   ]
  },
  {
   "cell_type": "code",
   "execution_count": 51,
   "metadata": {},
   "outputs": [
    {
     "name": "stdout",
     "output_type": "stream",
     "text": [
      "(2283, 14)\n",
      "(571, 14)\n"
     ]
    }
   ],
   "source": [
    "train_size = round(X_sample.shape[0] * 0.8)\n",
    "\n",
    "X_train = X_sample.iloc[:train_size-1,:]\n",
    "Y_train = Y_sample.iloc[:train_size-1]\n",
    "\n",
    "X_validation = X_sample.iloc[train_size:,:]\n",
    "Y_validation = Y_sample.iloc[train_size:]\n",
    "\n",
    "print(X_train.shape)\n",
    "print(X_validation.shape)"
   ]
  },
  {
   "cell_type": "code",
   "execution_count": 52,
   "metadata": {},
   "outputs": [
    {
     "name": "stdout",
     "output_type": "stream",
     "text": [
      "[[0.62068966 0.33333333 0.78571429 ... 0.69230769 0.12987013 0.21666667]\n",
      " [0.55172414 0.37037037 0.8452381  ... 0.8        0.05844156 0.16666667]\n",
      " [0.17241379 0.2962963  0.83333333 ... 0.82352941 0.07467532 0.14166667]\n",
      " ...\n",
      " [0.36073712 0.35235913 0.83333333 ... 0.82142857 0.08441558 0.23333333]\n",
      " [0.27586207 0.35235913 0.82142857 ... 0.7        0.13636364 0.16666667]\n",
      " [0.20689655 0.2962963  0.83333333 ... 0.7        0.07792208 0.16666667]]\n"
     ]
    }
   ],
   "source": [
    "# Normalize values in dataframe\n",
    "min_max_scalar = preprocessing.MinMaxScaler()\n",
    "X_train = min_max_scalar.fit_transform(X_train)\n",
    "X_validation = min_max_scalar.fit_transform(X_validation)\n",
    "\n",
    "print(X_train)"
   ]
  },
  {
   "cell_type": "markdown",
   "metadata": {},
   "source": [
    "## Prediction\n",
    "\n",
    "### Experimenting with Different Classifiers\n",
    "\n",
    "#### Linear Classification - Logistic Regression"
   ]
  },
  {
   "cell_type": "code",
   "execution_count": 53,
   "metadata": {},
   "outputs": [
    {
     "name": "stdout",
     "output_type": "stream",
     "text": [
      "--alpha = 0.0001--\n",
      "Training accuracy: 0.637757\n",
      "Validation accuracy: 0.555166\n",
      "--alpha = 0.001--\n",
      "Training accuracy: 0.635567\n",
      "Validation accuracy: 0.651489\n",
      "--alpha = 0.01--\n",
      "Training accuracy: 0.503723\n",
      "Validation accuracy: 0.542907\n",
      "--alpha = 0.1--\n",
      "Training accuracy: 0.503723\n",
      "Validation accuracy: 0.544658\n",
      "--alpha = 1.0--\n"
     ]
    },
    {
     "name": "stderr",
     "output_type": "stream",
     "text": [
      "C:\\Users\\ne3ko\\Anaconda3\\lib\\site-packages\\sklearn\\linear_model\\stochastic_gradient.py:451: ConvergenceWarning: Maximum number of iteration reached before convergence. Consider increasing max_iter to improve the fit.\n",
      "  ConvergenceWarning)\n"
     ]
    },
    {
     "name": "stdout",
     "output_type": "stream",
     "text": [
      "Training accuracy: 0.491021\n",
      "Validation accuracy: 0.532399\n",
      "--alpha = 10.0--\n",
      "Training accuracy: 0.491021\n",
      "Validation accuracy: 0.532399\n",
      "--alpha = 100.0--\n",
      "Training accuracy: 0.491021\n",
      "Validation accuracy: 0.532399\n"
     ]
    },
    {
     "data": {
      "image/png": "[encoded data removed]",
      "text/plain": [
       "<Figure size 432x288 with 1 Axes>"
      ]
     },
     "metadata": {
      "needs_background": "light"
     },
     "output_type": "display_data"
    },
    {
     "name": "stdout",
     "output_type": "stream",
     "text": [
      "\n",
      "\n"
     ]
    }
   ],
   "source": [
    "alph = 0.0001 # Use to increment by alpha\n",
    "i = 0 # Increment through matrix\n",
    "ava = np.zeros(shape=(7,3)) # Array to store alpha values and test & train accuracies\n",
    "\n",
    "# Populate 3d matrix with alpha, train accuracies, and test accuracies\n",
    "while alph <= 100 :\n",
    "    print(\"--alpha = %s--\" % alph)\n",
    "    log_reg = SGDClassifier(loss='log', max_iter=1000, tol=1.0e-12, random_state=123, alpha = alph)\n",
    "    log_reg.fit(X_train, Y_train)\n",
    "\n",
    "    train_accuracy = accuracy_score(Y_train, log_reg.predict(X_train))\n",
    "    validation_accuracy = accuracy_score(Y_validation, log_reg.predict(X_validation))\n",
    "\n",
    "    ava[i] = [alph, train_accuracy,validation_accuracy]\n",
    "    \n",
    "    print(\"Training accuracy: %0.6f\" % train_accuracy)\n",
    "    print(\"Validation accuracy: %0.6f\" % validation_accuracy)\n",
    "    \n",
    "    alph *= 10\n",
    "    i += 1\n",
    "\n",
    "#Plot of Alpha vs. Test / Train Accuracies\n",
    "mpl.plot(ava[:,0],ava[:,1],'r-o',label='Train')\n",
    "mpl.plot(ava[:,0],ava[:,2],'b-o',label='Validation')\n",
    "mpl.xscale('log')\n",
    "mpl.xlabel('Alpha (logrithmic)')\n",
    "mpl.ylabel('Accuracy')\n",
    "mpl.legend(loc='upper right')\n",
    "mpl.title('Alpha vs Train & Validation Accuracies')\n",
    "\n",
    "mpl.savefig('logreg_plot.png')\n",
    "\n",
    "mpl.show()\n",
    "print(\"\\n\")"
   ]
  },
  {
   "cell_type": "markdown",
   "metadata": {},
   "source": [
    "#### Non-Linear Classification - RBF"
   ]
  },
  {
   "cell_type": "code",
   "execution_count": 69,
   "metadata": {},
   "outputs": [
    {
     "name": "stdout",
     "output_type": "stream",
     "text": [
      "\tC = 0.0001\n",
      "\t\tTraining accuracy: 0.493211\n",
      "\t\tValidation accuracy: 0.455342\n",
      "\tC = 0.001\n",
      "\t\tTraining accuracy: 0.493211\n",
      "\t\tValidation accuracy: 0.455342\n",
      "\tC = 0.01\n",
      "\t\tTraining accuracy: 0.493211\n",
      "\t\tValidation accuracy: 0.455342\n",
      "\tC = 0.1\n",
      "\t\tTraining accuracy: 0.547963\n",
      "\t\tValidation accuracy: 0.527145\n",
      "\tC = 1.0\n",
      "\t\tTraining accuracy: 0.637757\n",
      "\t\tValidation accuracy: 0.646235\n",
      "\tC = 10.0\n",
      "\t\tTraining accuracy: 0.644766\n",
      "\t\tValidation accuracy: 0.635727\n",
      "\tC = 100.0\n",
      "\t\tTraining accuracy: 0.653526\n",
      "\t\tValidation accuracy: 0.658494\n",
      "\tC = 1000.0\n",
      "\t\tTraining accuracy: 0.664915\n",
      "\t\tValidation accuracy: 0.632224\n"
     ]
    },
    {
     "data": {
      "image/png": "[encoded data removed]",
      "text/plain": [
       "<Figure size 432x288 with 1 Axes>"
      ]
     },
     "metadata": {
      "needs_background": "light"
     },
     "output_type": "display_data"
    },
    {
     "name": "stdout",
     "output_type": "stream",
     "text": [
      "\n",
      "\n"
     ]
    }
   ],
   "source": [
    "# Use RBF as classifier\n",
    "accArray = np.zeros((8,3))\n",
    "\n",
    "c = 0.0001\n",
    "i = 0\n",
    "while c <= 1000 :\n",
    "    \n",
    "    rbf = SVC(kernel='rbf', C=c, random_state=123)\n",
    "    rbf.fit(X_train, Y_train)\n",
    "\n",
    "    accArray[i][0] = c # C-Value\n",
    "    accArray[i][1] = accuracy_score(Y_train, rbf.predict(X_train)) # Train Accuracy\n",
    "    accArray[i][2] = accuracy_score(Y_validation, rbf.predict(X_validation)) # Test Accuracy\n",
    "    \n",
    "    print(\"\\tC =\", accArray[i][0])\n",
    "    print(\"\\t\\tTraining accuracy: %0.6f\" % accArray[i][1])\n",
    "    print(\"\\t\\tValidation accuracy: %0.6f\" % accArray[i][2])\n",
    "    c *= 10\n",
    "    i += 1\n",
    "\n",
    "mpl.plot(accArray[:,0],accArray[:,1],'r-o',label='Train')\n",
    "mpl.plot(accArray[:,0],accArray[:,2],'b-o',label='Validation')\n",
    "mpl.xscale('log')\n",
    "mpl.xlabel('C (RBF)')\n",
    "mpl.ylabel('Accuracy')\n",
    "mpl.legend(loc='upper left')\n",
    "mpl.title('C vs Train & Validation Accuracies')\n",
    "\n",
    "mpl.savefig('rbf_plot.png')\n",
    "\n",
    "mpl.show()\n",
    "print(\"\\n\")"
   ]
  },
  {
   "cell_type": "markdown",
   "metadata": {},
   "source": [
    "#### Generative Classifier - Naive Bayes"
   ]
  },
  {
   "cell_type": "code",
   "execution_count": 61,
   "metadata": {},
   "outputs": [
    {
     "name": "stdout",
     "output_type": "stream",
     "text": [
      "Gaussian Naive Bayes Training Accuracy Score: 0.605782\n",
      "Gaussian Naive Bayes Validation Accuracy Score: 0.465849\n"
     ]
    }
   ],
   "source": [
    "# Use Naive Bayes to predict fighter\n",
    "gauss = GaussianNB()\n",
    "gauss.fit(X_train, Y_train)\n",
    "print(\"Gaussian Naive Bayes Training Accuracy Score: %0.6f\" % accuracy_score(Y_train, gauss.predict(X_train)))\n",
    "print(\"Gaussian Naive Bayes Validation Accuracy Score: %0.6f\" % accuracy_score(Y_validation, gauss.predict(X_validation)))"
   ]
  },
  {
   "cell_type": "markdown",
   "metadata": {},
   "source": [
    "### Tuning Parameters"
   ]
  },
  {
   "cell_type": "code",
   "execution_count": 68,
   "metadata": {},
   "outputs": [
    {
     "name": "stdout",
     "output_type": "stream",
     "text": [
      "\tgamma = 0.1\n",
      "\t\tTraining accuracy: 0.659220\n",
      "\t\tValidation accuracy: 0.640981\n",
      "\tgamma = 0.010000000000000002\n",
      "\t\tTraining accuracy: 0.643452\n",
      "\t\tValidation accuracy: 0.619965\n",
      "\tgamma = 0.0010000000000000002\n",
      "\t\tTraining accuracy: 0.640823\n",
      "\t\tValidation accuracy: 0.646235\n",
      "\tgamma = 0.00010000000000000003\n",
      "\t\tTraining accuracy: 0.599212\n",
      "\t\tValidation accuracy: 0.576182\n",
      "\tgamma = 1.0000000000000004e-05\n",
      "\t\tTraining accuracy: 0.493211\n",
      "\t\tValidation accuracy: 0.455342\n"
     ]
    },
    {
     "data": {
      "image/png": "[encoded data removed]",
      "text/plain": [
       "<Figure size 432x288 with 1 Axes>"
      ]
     },
     "metadata": {
      "needs_background": "light"
     },
     "output_type": "display_data"
    },
    {
     "name": "stdout",
     "output_type": "stream",
     "text": [
      "\n",
      "\n"
     ]
    }
   ],
   "source": [
    "# Test difference gammas for accuracy\n",
    "accArray = np.zeros((10,3))\n",
    "\n",
    "g = 0.1\n",
    "i = 0\n",
    "while g >= 0.00001 :\n",
    "    \n",
    "    rbf = SVC(kernel='rbf', C=100, random_state=123, gamma=g)\n",
    "    rbf.fit(X_train, Y_train)\n",
    "\n",
    "    accArray[i][0] = g # C-Value\n",
    "    accArray[i][1] = accuracy_score(Y_train, rbf.predict(X_train)) # Train Accuracy\n",
    "    accArray[i][2] = accuracy_score(Y_validation, rbf.predict(X_validation)) # Test Accuracy\n",
    "    \n",
    "    print(\"\\tgamma =\", accArray[i][0])\n",
    "    print(\"\\t\\tTraining accuracy: %0.6f\" % accArray[i][1])\n",
    "    print(\"\\t\\tValidation accuracy: %0.6f\" % accArray[i][2])\n",
    "    g *= 0.1\n",
    "    i += 1\n",
    "\n",
    "mpl.plot(accArray[:,0],accArray[:,1],'r-o',label='Train')\n",
    "mpl.plot(accArray[:,0],accArray[:,2],'b-o',label='Validation')\n",
    "# mpl.xscale('log')\n",
    "mpl.xlabel('C (RBF)')\n",
    "mpl.ylabel('Accuracy')\n",
    "mpl.legend(loc='lower right')\n",
    "mpl.title('C vs Train & Validation Accuracies')\n",
    "\n",
    "mpl.savefig('rbf_plot_gamma.png')\n",
    "\n",
    "mpl.show()\n",
    "print(\"\\n\")"
   ]
  },
  {
   "cell_type": "code",
   "execution_count": 65,
   "metadata": {},
   "outputs": [
    {
     "name": "stdout",
     "output_type": "stream",
     "text": [
      "Training accuracy: 0.664915\n",
      "Validation accuracy: 0.632224\n"
     ]
    }
   ],
   "source": [
    "rbf = SVC(kernel='rbf', C=1000, random_state=123)\n",
    "rbf.fit(X_train, Y_train)\n",
    "\n",
    "print(\"Training accuracy: %0.6f\" % accuracy_score(Y_train, rbf.predict(X_train)))\n",
    "print(\"Validation accuracy: %0.6f\" % accuracy_score(Y_validation, rbf.predict(X_validation)))"
   ]
  },
  {
   "cell_type": "markdown",
   "metadata": {},
   "source": [
    "## Final Prediction"
   ]
  },
  {
   "cell_type": "code",
   "execution_count": 66,
   "metadata": {},
   "outputs": [
    {
     "name": "stdout",
     "output_type": "stream",
     "text": [
      "Test accuracy: 0.581232\n"
     ]
    }
   ],
   "source": [
    "# Transform the test data\n",
    "X_test = min_max_scalar.fit_transform(X_test)\n",
    "\n",
    "print(\"Test accuracy: %0.6f\" % accuracy_score(Y_test, rbf.predict(X_test)))"
   ]
  },
  {
   "cell_type": "markdown",
   "metadata": {},
   "source": [
    "### Error Analysis"
   ]
  },
  {
   "cell_type": "code",
   "execution_count": 67,
   "metadata": {},
   "outputs": [
    {
     "name": "stdout",
     "output_type": "stream",
     "text": [
      "__Confusion Matrix__\n",
      "[[235   0 126]\n",
      " [ 12   0   4]\n",
      " [157   0 180]]\n"
     ]
    }
   ],
   "source": [
    "# Confucion matrix\n",
    "confMatrix = confusion_matrix(Y_test, rbf.predict(X_test))\n",
    "\n",
    "print(\"__Confusion Matrix__\")\n",
    "print(confMatrix)"
   ]
  },
  {
   "cell_type": "code",
   "execution_count": null,
   "metadata": {},
   "outputs": [],
   "source": []
  }
 ],
 "metadata": {
  "kernelspec": {
   "display_name": "Python 3",
   "language": "python",
   "name": "python3"
  },
  "language_info": {
   "codemirror_mode": {
    "name": "ipython",
    "version": 3
   },
   "file_extension": ".py",
   "mimetype": "text/x-python",
   "name": "python",
   "nbconvert_exporter": "python",
   "pygments_lexer": "ipython3",
   "version": "3.7.0"
  }
 },
 "nbformat": 4,
 "nbformat_minor": 2
}
